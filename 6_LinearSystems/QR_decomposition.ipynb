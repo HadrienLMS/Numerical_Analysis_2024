{
 "cells": [
  {
   "cell_type": "code",
   "execution_count": 13,
   "id": "e13331b4",
   "metadata": {},
   "outputs": [
    {
     "name": "stdout",
     "output_type": "stream",
     "text": [
      "[[ 6.  3.  4.  8.]\n",
      " [ 3.  6.  5.  1.]\n",
      " [ 4.  5. 10.  7.]\n",
      " [ 8.  1.  7. 25.]]\n",
      "[[ 0.53665631 -0.01164445 -0.53083247 -0.65580584]\n",
      " [ 0.26832816  0.72195591 -0.37863574  0.51323935]\n",
      " [ 0.35777088  0.47742246  0.73871091 -0.31364627]\n",
      " [ 0.71554175 -0.50071136  0.1707573   0.45621276]]\n",
      "[[ 1.11803399e+01  5.72433402e+00  1.20747671e+01  2.49545186e+01]\n",
      " [ 0.00000000e+00  6.18320305e+00  4.83244683e+00 -8.54702644e+00]\n",
      " [-1.77635684e-15  5.55111512e-17  4.56590162e+00  4.81461334e+00]\n",
      " [-4.44089210e-15 -3.49720253e-15 -6.66133815e-16  4.47658770e+00]]\n",
      "Solution from QR: [ 5.84854919 -0.67374381  2.14012739 -1.20382166]\n",
      "Reference solution: [ 5.84854919 -0.67374381  2.14012739 -1.20382166]\n",
      "QR error is: 3.740242889193505e-15\n"
     ]
    }
   ],
   "source": [
    "import numpy as np\n",
    "from LU_decomposition import back_substitution\n",
    "\n",
    "def getQ(M):\n",
    "    Q = []\n",
    "    M = np.transpose(M)\n",
    "\n",
    "    for i in range(len(M)):\n",
    "        v = np.copy(M[i,:]) # i-th column of A\n",
    "        for j in range(i):\n",
    "            v -= (np.dot(M[i,:], Q[j]) / np.dot(Q[j], Q[j])) * Q[j]\n",
    "        Q.append(v)\n",
    "    \n",
    "    Q = np.array(Q) / np.linalg.norm(Q, axis=1, keepdims=True)\n",
    "    Q = Q.transpose()\n",
    "\n",
    "    return Q\n",
    "\n",
    "def getR(M, Q):\n",
    "    # R = Q^T A \n",
    "    Q_t = np.transpose(Q)\n",
    "    return Q_t@M\n",
    "\n",
    "A = np.array([[6, 3, 4, 8], [3, 6, 5, 1], [4, 5, 10, 7], [8, 1, 7, 25]])\n",
    "#A = np.array([[6, 3], [3, 6], [4, 5], [8, 1]])\n",
    "A = A.astype(float)\n",
    "print(A)\n",
    "b = np.array([32., 23., 33., 31.])\n",
    "\n",
    "# get QR decompositon\n",
    "Q = getQ(A)\n",
    "R = getR(A, Q)\n",
    "print(Q)\n",
    "print(R)\n",
    "\n",
    "# solve linear system\n",
    "rhs = np.dot(np.transpose(Q), b)\n",
    "x = back_substitution(R, rhs) # upper triangular ==> BS\n",
    "print(\"Solution from QR:\", x)\n",
    "\n",
    "# compare with reference solution\n",
    "x_ref = np.linalg.solve(A.T @ A, A.T @ b)\n",
    "print(\"Reference solution:\", x_ref)\n",
    "\n",
    "print('QR error is:',np.linalg.norm(x_ref-x)/np.linalg.norm(x_ref))"
   ]
  }
 ],
 "metadata": {
  "kernelspec": {
   "display_name": "Python 3 (ipykernel)",
   "language": "python",
   "name": "python3"
  },
  "language_info": {
   "codemirror_mode": {
    "name": "ipython",
    "version": 3
   },
   "file_extension": ".py",
   "mimetype": "text/x-python",
   "name": "python",
   "nbconvert_exporter": "python",
   "pygments_lexer": "ipython3",
   "version": "3.9.7"
  }
 },
 "nbformat": 4,
 "nbformat_minor": 5
}

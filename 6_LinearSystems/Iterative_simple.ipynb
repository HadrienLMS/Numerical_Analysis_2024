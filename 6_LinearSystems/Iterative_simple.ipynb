{
 "cells": [
  {
   "cell_type": "code",
   "execution_count": 3,
   "metadata": {},
   "outputs": [],
   "source": [
    "import numpy as np"
   ]
  },
  {
   "cell_type": "code",
   "execution_count": 4,
   "metadata": {},
   "outputs": [],
   "source": [
    "def jacobi(A, b, max_iterations=10, verbose=True):\n",
    "    x = np.ones(len(b))\n",
    "    n_iter = 0\n",
    "    residuals = []\n",
    "    N = A - np.diag(np.diagonal(A))\n",
    "    while (n_iter <= max_iterations):\n",
    "        x_old  = x.copy()\n",
    "        if (verbose == True):\n",
    "          print(\"Iteration \", n_iter, \": x = \", x_old)\n",
    "        x[:] = (b - np.dot(N, x)) / np.diagonal(A)\n",
    "        n_iter += 1\n",
    "        residual = np.linalg.norm( b - np.dot(A,x) , 2)\n",
    "        residuals.append(residual)\n",
    "    return x, residuals"
   ]
  },
  {
   "cell_type": "code",
   "execution_count": 5,
   "metadata": {},
   "outputs": [],
   "source": [
    "def gauss_seidel(A, b, max_iterations=10, verbose=True):\n",
    "    x = np.zeros_like(b)\n",
    "    n_iter = 0\n",
    "    residuals = []\n",
    "    while (n_iter <= max_iterations):\n",
    "        x_old  = x.copy()\n",
    "        if (verbose == True):\n",
    "          print(\"Iteration \", n_iter, \": x = \", x_old)\n",
    "        for i in range(A.shape[0]):\n",
    "            x[i] = -(np.dot(A[i,:i], x[:i]) + np.dot(A[i,(i+1):], x_old[(i+1):]) - b[i]) / A[i ,i]\n",
    "        n_iter += 1\n",
    "        residual = np.linalg.norm( b - np.dot(A,x) , 2)\n",
    "        residuals.append(residual)\n",
    "    return x, residuals"
   ]
  },
  {
   "cell_type": "code",
   "execution_count": 8,
   "metadata": {},
   "outputs": [
    {
     "name": "stdout",
     "output_type": "stream",
     "text": [
      "[[  7.   3.   1.]\n",
      " [ -3.  10.   2.]\n",
      " [  1.   7. -15.]]\n"
     ]
    }
   ],
   "source": [
    "#n = 20\n",
    "#A = np.diag(-1*np.ones(n-1), -1) + np.diag(2*np.ones(n), 0) + np.diag(-1*np.ones(n-1), 1)\n",
    "#b = np.ones(n)\n",
    "n = 3\n",
    "A = np.array([[7.,3., 1], [-3., 10., 2.], [1., 7., -15.]])\n",
    "b = np.array([3., 4. ,2.])\n",
    "print(A)\n",
    "iter = 500\n",
    "xJ, residualsJ = jacobi(A,b, iter, False)\n",
    "xG, residualsG = gauss_seidel(A,b, iter, False)"
   ]
  },
  {
   "cell_type": "code",
   "execution_count": 9,
   "metadata": {},
   "outputs": [
    {
     "data": {
      "image/png": "[encoded data removed]",
      "text/plain": [
       "<Figure size 360x288 with 1 Axes>"
      ]
     },
     "metadata": {
      "needs_background": "light"
     },
     "output_type": "display_data"
    }
   ],
   "source": [
    "import matplotlib.pyplot as plt\n",
    "\n",
    "fig = plt.figure(figsize=(5, 4))\n",
    "\n",
    "# Plot the log of the residual\n",
    "# against iteration number \n",
    "plt.semilogy(residualsJ, color=\"blue\", label=\"Jacobi\")\n",
    "plt.semilogy(residualsG, color=\"red\", label=\"Gauss-Seidel\")\n",
    "plt.xlabel('Iteration', fontsize=14)\n",
    "plt.ylabel('Residual', fontsize=14)\n",
    "plt.title('Convergence plot - n = %s' %(n), fontsize=14)\n",
    "plt.legend()\n",
    "plt.grid()\n",
    "plt.show()"
   ]
  }
 ],
 "metadata": {
  "kernelspec": {
   "display_name": "Python 3 (ipykernel)",
   "language": "python",
   "name": "python3"
  },
  "language_info": {
   "codemirror_mode": {
    "name": "ipython",
    "version": 3
   },
   "file_extension": ".py",
   "mimetype": "text/x-python",
   "name": "python",
   "nbconvert_exporter": "python",
   "pygments_lexer": "ipython3",
   "version": "3.9.7"
  }
 },
 "nbformat": 4,
 "nbformat_minor": 2
}

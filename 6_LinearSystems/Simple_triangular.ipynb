{
 "cells": [
  {
   "cell_type": "code",
   "execution_count": 4,
   "metadata": {},
   "outputs": [
    {
     "name": "stdout",
     "output_type": "stream",
     "text": [
      "matrix:\n",
      " [[ 5.  2.  1.]\n",
      " [ 0.  1. -1.]\n",
      " [ 0.  0.  3.]]\n",
      "rhs: [1. 1. 1.]\n",
      "[[0. 0. 3.]]\n"
     ]
    }
   ],
   "source": [
    "import numpy as np\n",
    "\n",
    "A = np.array([[5, 2, 1], [0, 1, -1], [0, 0, 3]]).astype(np.float64)\n",
    "#A = np.triu(np.random.rand(5*5).reshape(5,5)).astype(np.float64)\n",
    "print(\"matrix:\\n\", A)\n",
    "\n",
    "n = A.shape[1]\n",
    "b = np.ones(n)\n",
    "print(\"rhs:\", b)\n",
    "print(A[2:])"
   ]
  },
  {
   "cell_type": "code",
   "execution_count": 2,
   "metadata": {},
   "outputs": [],
   "source": [
    "def solveUpTri(Mat,rhs):\n",
    "    \n",
    "    print(\"Solver begins ! \\n\")\n",
    "    if not np.allclose(Mat, np.triu(Mat)):\n",
    "        raise Exception(\"The matrix is not upper triangular !\")\n",
    "    n = len(rhs)\n",
    "    #Allocating space for the solution vector\n",
    "    sol = np.zeros(n)\n",
    "    #Initializing back-substitution with the last row.\n",
    "    sol[-1] = rhs[-1] / Mat[-1,-1] # assign last value\n",
    "    print(\"initial  x[\", n-1 ,\"]: \", sol[-1], \"\\n\")\n",
    "    #Looping over rows in reverse (from the bottom up), \n",
    "    #starting with the second to last row, because the \n",
    "    #last row solve was completed in the last step.\n",
    "    for i in range(n-2, -1, -1): # range(start, stop, step)\n",
    "        print(\"\"\\n\"i)\n",
    "        print(\"dot prod:\", Mat[i,i+1:], \" with \", sol[i+1:])\n",
    "        sol[i] = ( rhs[i] - np.dot(Mat[i,i+1:], sol[i+1:]) ) / Mat[i,i]\n",
    "        print(\"value of x[\", i, \"]: \", sol[i], \"\\n\")\n",
    "    print(\"\\nDone solving ! \\n\")\n",
    "    return sol"
   ]
  },
  {
   "cell_type": "code",
   "execution_count": 5,
   "metadata": {},
   "outputs": [
    {
     "name": "stdout",
     "output_type": "stream",
     "text": [
      "Solver begins ! \n",
      "\n",
      "initial  x[ 2 ]:  0.3333333333333333 \n",
      "\n",
      "1\n",
      "dot prod: [-1.]  with  [0.33333333]\n",
      "value of x[ 1 ]:  1.3333333333333333 \n",
      "\n",
      "0\n",
      "dot prod: [2. 1.]  with  [1.33333333 0.33333333]\n",
      "value of x[ 0 ]:  -0.4 \n",
      "\n",
      "\n",
      "Done solving ! \n",
      "\n",
      "Residual: [2.22044605e-16 0.00000000e+00 0.00000000e+00]\n"
     ]
    }
   ],
   "source": [
    "x = solveUpTri(A,b)\n",
    "print(\"Residual:\", np.abs(A@x - b) )"
   ]
  }
 ],
 "metadata": {
  "kernelspec": {
   "display_name": "Python 3 (ipykernel)",
   "language": "python",
   "name": "python3"
  },
  "language_info": {
   "codemirror_mode": {
    "name": "ipython",
    "version": 3
   },
   "file_extension": ".py",
   "mimetype": "text/x-python",
   "name": "python",
   "nbconvert_exporter": "python",
   "pygments_lexer": "ipython3",
   "version": "3.9.7"
  }
 },
 "nbformat": 4,
 "nbformat_minor": 2
}

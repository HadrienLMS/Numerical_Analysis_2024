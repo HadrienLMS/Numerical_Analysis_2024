{
 "cells": [
  {
   "cell_type": "code",
   "execution_count": 1,
   "metadata": {},
   "outputs": [],
   "source": [
    "import numpy as np\n",
    "\n",
    "def lu(A):\n",
    "    \n",
    "    #Get the number of rows\n",
    "    n = A.shape[0]\n",
    "    # inititalize LU factors\n",
    "    U = A.copy()\n",
    "    L = np.eye(n, dtype=np.double)\n",
    "    \n",
    "    #Loop over rows\n",
    "    for i in range(n):\n",
    "        print(\"i =\", i)\n",
    "        print(\"L: \\n\", L)\n",
    "        print(\"U: \\n\", U)\n",
    "        #Eliminate entries below i with row operations \n",
    "        #on U and reverse the row operations to \n",
    "        #manipulate L\n",
    "        factor = U[i+1:, i] / U[i, i]\n",
    "        print(\"column factor\", factor)\n",
    "        L[i+1:, i] = factor\n",
    "        U[i+1:] -= factor[:, np.newaxis] * U[i]\n",
    "    \n",
    "    return L, U"
   ]
  },
  {
   "cell_type": "code",
   "execution_count": 44,
   "metadata": {},
   "outputs": [
    {
     "name": "stdout",
     "output_type": "stream",
     "text": [
      "[[ 5.  2.  1.]\n",
      " [ 5. -6.  2.]\n",
      " [-4.  2.  1.]]\n",
      "i = 0\n",
      "L: \n",
      " [[1. 0. 0.]\n",
      " [0. 1. 0.]\n",
      " [0. 0. 1.]]\n",
      "U: \n",
      " [[ 5.  2.  1.]\n",
      " [ 5. -6.  2.]\n",
      " [-4.  2.  1.]]\n",
      "column factor [ 1.  -0.8]\n",
      "i = 1\n",
      "L: \n",
      " [[ 1.   0.   0. ]\n",
      " [ 1.   1.   0. ]\n",
      " [-0.8  0.   1. ]]\n",
      "U: \n",
      " [[ 5.   2.   1. ]\n",
      " [ 0.  -8.   1. ]\n",
      " [ 0.   3.6  1.8]]\n",
      "column factor [-0.45]\n",
      "i = 2\n",
      "L: \n",
      " [[ 1.    0.    0.  ]\n",
      " [ 1.    1.    0.  ]\n",
      " [-0.8  -0.45  1.  ]]\n",
      "U: \n",
      " [[ 5.    2.    1.  ]\n",
      " [ 0.   -8.    1.  ]\n",
      " [ 0.    0.    2.25]]\n",
      "column factor []\n"
     ]
    }
   ],
   "source": [
    "A = np.array([[5, 2, 1], [5, -6, 2], [-4, 2, 1]]).astype(np.float64)\n",
    "print(A)\n",
    "L, U = lu(A)"
   ]
  },
  {
   "cell_type": "code",
   "execution_count": 45,
   "metadata": {},
   "outputs": [
    {
     "name": "stdout",
     "output_type": "stream",
     "text": [
      "[[ 1.  1.  0.]\n",
      " [ 2.  1. -1.]\n",
      " [ 3. -1. -1.]]\n",
      "i = 0\n",
      "L: \n",
      " [[1. 0. 0.]\n",
      " [0. 1. 0.]\n",
      " [0. 0. 1.]]\n",
      "U: \n",
      " [[ 1.  1.  0.]\n",
      " [ 2.  1. -1.]\n",
      " [ 3. -1. -1.]]\n",
      "column factor [2. 3.]\n",
      "i = 1\n",
      "L: \n",
      " [[1. 0. 0.]\n",
      " [2. 1. 0.]\n",
      " [3. 0. 1.]]\n",
      "U: \n",
      " [[ 1.  1.  0.]\n",
      " [ 0. -1. -1.]\n",
      " [ 0. -4. -1.]]\n",
      "column factor [4.]\n",
      "i = 2\n",
      "L: \n",
      " [[1. 0. 0.]\n",
      " [2. 1. 0.]\n",
      " [3. 4. 1.]]\n",
      "U: \n",
      " [[ 1.  1.  0.]\n",
      " [ 0. -1. -1.]\n",
      " [ 0.  0.  3.]]\n",
      "column factor []\n"
     ]
    }
   ],
   "source": [
    "A = np.array([[1, 1, 0], [2, 1, -1], [3, -1, -1]]).astype(np.float64)\n",
    "print(A)\n",
    "L, U = lu(A)\n",
    "#\n",
    "#print(U)\n",
    "#print(np.dot(L,U))"
   ]
  },
  {
   "cell_type": "code",
   "execution_count": 46,
   "metadata": {},
   "outputs": [
    {
     "name": "stdout",
     "output_type": "stream",
     "text": [
      "[[1. 0. 0.]\n",
      " [2. 1. 0.]\n",
      " [3. 4. 1.]]\n",
      "forward substitution\n",
      "[2.]\n",
      "[3. 4.]\n",
      "result\n",
      "[ 1. -1.  2.]\n"
     ]
    }
   ],
   "source": [
    "def forward_substitution(L, b):\n",
    "    #Get number of rows\n",
    "    n = L.shape[0]\n",
    "    #Allocating space for the solution vector\n",
    "    y = np.zeros_like(b)\n",
    "    #Here we perform the forward-substitution.  \n",
    "    #Initializing  with the first row.\n",
    "    y[0] = b[0] / L[0, 0]\n",
    "    #Looping over rows in reverse (from the bottom  up),\n",
    "    #starting with the second to last row, because  the \n",
    "    #last row solve was completed in the last step.\n",
    "    for i in range(1, n):\n",
    "        print(L[i,:i]) # all the line i up to the column i, that is the subdiagonal line\n",
    "        y[i] = (b[i] - np.dot(L[i,:i], y[:i])) / L[i,i]\n",
    "    return y\n",
    "\n",
    "print(L)\n",
    "print(\"forward substitution\")\n",
    "b = np.ones(L.shape[0])\n",
    "y = forward_substitution(L, b)\n",
    "print(\"result\")\n",
    "print(y)"
   ]
  },
  {
   "cell_type": "code",
   "execution_count": 47,
   "metadata": {},
   "outputs": [],
   "source": [
    "def plu(A):\n",
    "    \"\"\"\n",
    "    Implementation of a pivoted LU decomposition.\n",
    "    \n",
    "    Returns matrices P, L, U, such that\n",
    "    PA = LU.\n",
    "    \"\"\"\n",
    "    \n",
    "    import numpy as np\n",
    "    \n",
    "    # Return an error if matrix is not square\n",
    "    if not A.shape[0]==A.shape[1]:\n",
    "        raise ValueError(\"Input matrix must be square\")\n",
    "        \n",
    "    n = A.shape[0] # The number of rows/columns of A\n",
    "    p = np.arange(n) # The permutation vector\n",
    "    \n",
    "    L = np.zeros((n,n),dtype='float64') # Reserve space for L\n",
    "    U = np.zeros((n,n),dtype='float64') # Reserve space for U\n",
    "    U[:] = A # Copy A into U as we do not want to modify A\n",
    "    np.fill_diagonal(L,1) # fill the diagonal of L with 1\n",
    "    \n",
    "    for i in range(n-1):\n",
    "        # The outer iteration\n",
    "        # Permute the rows to ensure the element with largest magnitude is on top\n",
    "        max_index = i+np.argmax(np.abs(U[i:,i]))\n",
    "        U[[i,max_index],:] = U[[max_index,i],:]\n",
    "        L[[i,max_index],:i] = L[[max_index,i],:i]\n",
    "        p[[i,max_index]] = p[[max_index,i]]\n",
    "        for j in range(i+1,n):\n",
    "            L[j,i] = U[j,i]/U[i,i]\n",
    "            U[j,i:] = U[j,i:]-L[j,i]*U[i,i:]\n",
    "            U[j,i] = 0\n",
    "    P = np.eye(n)[p,:] \n",
    "    return (P,L,U)"
   ]
  },
  {
   "cell_type": "code",
   "execution_count": 48,
   "metadata": {},
   "outputs": [
    {
     "name": "stdout",
     "output_type": "stream",
     "text": [
      "[[ 1.  1.  0.]\n",
      " [ 2.  1. -1.]\n",
      " [ 3. -1. -1.]]\n",
      "permutation matrix\n",
      "[[0. 0. 1.]\n",
      " [0. 1. 0.]\n",
      " [1. 0. 0.]]\n",
      "lower\n",
      "[[1.         0.         0.        ]\n",
      " [0.66666667 1.         0.        ]\n",
      " [0.33333333 0.8        1.        ]]\n",
      "upper\n",
      "[[ 3.         -1.         -1.        ]\n",
      " [ 0.          1.66666667 -0.33333333]\n",
      " [ 0.          0.          0.6       ]]\n"
     ]
    }
   ],
   "source": [
    "print(A)\n",
    "P, L, U = plu(A)\n",
    "print(\"permutation matrix\")\n",
    "print(P)\n",
    "print(\"lower\")\n",
    "print(L)\n",
    "print(\"upper\")\n",
    "print(U)"
   ]
  },
  {
   "cell_type": "markdown",
   "metadata": {},
   "source": []
  }
 ],
 "metadata": {
  "kernelspec": {
   "display_name": "Python 3 (ipykernel)",
   "language": "python",
   "name": "python3"
  },
  "language_info": {
   "codemirror_mode": {
    "name": "ipython",
    "version": 3
   },
   "file_extension": ".py",
   "mimetype": "text/x-python",
   "name": "python",
   "nbconvert_exporter": "python",
   "pygments_lexer": "ipython3",
   "version": "3.9.7"
  },
  "vscode": {
   "interpreter": {
    "hash": "31f2aee4e71d21fbe5cf8b01ff0e069b9275f58929596ceb00d14d90e3e16cd6"
   }
  }
 },
 "nbformat": 4,
 "nbformat_minor": 2
}

import numpy as np

def jacobi(A, b, tolerance=1e-10, max_iterations=10000, verbose=False):
    x = np.zeros_like(b)
    n_iter = 0
    T = A - np.diag(np.diagonal(A))
    for k in range(max_iterations):
        x_old  = x.copy()
        if (verbose == True):
          print("Jacobi - current iterate: ", x_old)
        x[:] = (b - np.dot(T, x)) / np.diagonal(A)
        if np.linalg.norm(x - x_old, ord=np.inf) / np.linalg.norm(x, ord=np.inf) < tolerance:
            break
        n_iter += 1

    r0 = b - np.dot(A,x) # final residual
    print("Final residual Jacobi = %s" %np.linalg.norm(r0,2), ", number of iterations = %i" %n_iter)
    # spectral radius
    D_inv = np.diag(1./np.diagonal(A))
    lambdas = np.linalg.eigvals(D_inv@T)
    print("Jacobi: spectral radius of iteration matrix: %s" %max(lambdas))
    return x

# can only converge for (0 < relax < 2)
def gauss_seidel(A, b, relax=1., tolerance=1e-10, max_iterations=10000, verbose=False):
    x = np.zeros_like(b)
    n_iter = 0
    #Iterate
    for k in range(max_iterations):
        x_old  = x.copy()
        if (verbose == True):
          print("Gauss-Seidel - current iterate: ", x_old)
        #Loop over rows
        for i in range(A.shape[0]):
            x[i] = (1-relax)*x_old[i] - relax*(np.dot(A[i,:i], x[:i]) + np.dot(A[i,(i+1):], x_old[(i+1):]) - b[i]) / A[i ,i]
        #Stop condition 
        if (np.linalg.norm(x - x_old, ord=np.inf) / np.linalg.norm(x, ord=np.inf)) < tolerance:
            break
        n_iter += 1
    r0 = b - np.dot(A,x) # final residual
    print("Final residual GS ( relax=%s" %relax, ") = %s" %np.linalg.norm(r0,2), ", number of iterations = %i" %n_iter)
    # spectral radius
    D = np.diag(np.diagonal(A))
    F = np.triu(A) - np.diag(np.diagonal(A))
    E = np.tril(A) - np.diag(np.diagonal(A))
    lambdas = np.linalg.eigvals(-np.linalg.inv(D+E)@F)
    print("Gauss-Seidel: spectral radius of iteration matrix: %s" %max(lambdas))
    return x

def conjGrad(A, b, tol = 1.0e-15, N=50):
    #actual = np.array([0.125,0.125,0.375,0.375])
    x = np.zeros(len(A[0]))
    n_iter = 0
    r0 = b - np.dot(A,x)
    p = r0
    for i in range(N):
        alpha = (np.dot(r0, r0)/np.dot(p, np.dot(A,p))) # step - line search
        x = x + p * alpha # steepest descent
        n_iter += 1
        r0 = b - np.dot(A,x)
        if(np.sqrt(np.dot(r0,r0))) < tol:
                break
        else:
            beta = -(np.dot(r0, np.dot(A,p))/np.dot(p, np.dot(A,p)))
            p = r0 + beta * p
            #print(np.linalg.norm(actual - x))
    print("Final residual CG = %s" %np.linalg.norm(r0,2), ", number of iterations = %i" %n_iter)
    return x

def get_test_matrix(case):
    if case == 1:
        sol = np.array([1.0, 1.0, 1.0, 1.0])
        A = np.array([[10, 7, 8, 7], [7 ,5 ,6, 5], [8, 6, 10, 9], [7 ,5 ,9, 10]])
        b = np.array([32, 23, 33, 31])
    elif case == 2:
        sol = np.array([1.0,-1.0,3.0])
        A = np.array( [[4.0,-1.0,1.0],[2.0,5.0,2.0],[1.0,2.0,4.0]] )
        b = np.array( [8.0,3.0,11.0] )
    elif case == 3:
        sol = np.array([1.0, 2.0, -1.0, 1.0])
        A = np.array( [[10.0, -1.0, 2.0, 0.0],[-1.0, 11.0, -1.0, 3.0],[2.0, -1, 10.0, -1.0],[0.0, 3.0, -1.0, 8.0]] )
        b = np.array( [6.0, 25.0, -11.0, 15.0] )
    elif case == 4:
        sol = np.array([3,4,-5])
        A = np.array([[4.0,3.0,0.0],[3.0,4.0,-1.0],[0.,-1.0,4.0]])
        b = np.array([24.,30.,-24.])
    elif case == 5:
        sol = np.array([0.125,0.125,0.375,0.375])
        A = np.array([[4.,-1.,-1., 0.],[-1.,4.,0.,-1.],[-1.,0.,4.,-1.],[0., -1., -1., 4.]])
        b = np.array([0.,0.,1.,1.])
    else:
        raise ValueError("case not available !")
    return A.astype(float), b.astype(float), sol.astype(float)


A, b, sol = get_test_matrix(2)
print("Initial matrix :")
print(A)
# check eigenvalues
lambdas = np.linalg.eigvals(A)
if (lambdas.all() > 0):
    print("The problem is positive-definite")
print("largest eigenvalue: %s" %max(lambdas))
print("condition number: %s" %(max(lambdas)/min(lambdas)))
sol_jacobi = jacobi(A, b, 1e-6, 100, True)
print("Jacobi final solution :")
print(sol_jacobi)

sol_gaussSeidel = gauss_seidel(A, b, 1., 1e-6, 100, True)
print("GS final solution :")
print(sol_gaussSeidel)

#sol_relax = gauss_seidel(A, b, 1.072, 1e-6, 5000)
#print(sol_relax)
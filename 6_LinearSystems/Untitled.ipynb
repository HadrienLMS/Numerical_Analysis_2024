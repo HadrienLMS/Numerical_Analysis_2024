{
 "cells": [
  {
   "cell_type": "code",
   "execution_count": 36,
   "id": "6efcbf4b",
   "metadata": {
    "scrolled": true
   },
   "outputs": [
    {
     "name": "stdout",
     "output_type": "stream",
     "text": [
      "U= [[ 5.   2.   1.  -4. ]\n",
      " [ 0.   1.  -1.  -3. ]\n",
      " [ 0.   0.   3.   2. ]\n",
      " [ 0.   0.   0.   2.1]]\n",
      "L= [[ 5.   0.   0.   0. ]\n",
      " [ 2.   1.   0.   0. ]\n",
      " [ 1.  -1.   3.   0. ]\n",
      " [-4.  -3.   2.   2.1]]\n",
      "b= [1. 1. 1. 1.]\n",
      "\n",
      "----------\n",
      "\n",
      " backward residual: 0.0\n",
      "\n",
      "i: 1\n",
      "Mat[i,:i]: [2.]\n",
      "\n",
      "i: 2\n",
      "Mat[i,:i]: [ 1. -1.]\n",
      "\n",
      "i: 3\n",
      "Mat[i,:i]: [-4. -3.  2.]\n",
      "\n",
      " forward residual: 3.510833468576701e-16\n"
     ]
    }
   ],
   "source": [
    "import numpy as np\n",
    "#U = np.array([[5., 2., 1.], [0, 1., -1.], [0, 0, 3.]]).astype(np.float64)\n",
    "U = np.array([[5., 2., 1.,-4], [0, 1., -1.,-3], [0, 0, 3.,2], [0, 0, -0,2.1]]).astype(np.float64)\n",
    "\n",
    "\n",
    "numpy.triu\n",
    "\n",
    "print('U=',U)\n",
    "b = np.ones(U.shape[0])\n",
    "\n",
    "\n",
    "L = U.transpose()\n",
    "print('L=',L)\n",
    "\n",
    "print(\"b=\",b)\n",
    "\n",
    "print(\"\\n----------\")\n",
    "def backward(Mat,rhs):\n",
    "    n = len(rhs)\n",
    "    sol = np.zeros(n)\n",
    "    sol[-1] = rhs[-1]/Mat[-1,-1]\n",
    "    # looping over rows in reverse \n",
    "    # 0 1 2 - we want to have 1 and then 0\n",
    "    for i in range(n-2, -1, -1): # start stop step\n",
    "        #print(\"\\ni:\",i)\n",
    "        #print(\"Mat[i,i+1:]:\",Mat[i,i+1:])\n",
    "        sol[i] = (rhs[i] - np.dot(Mat[i,i+1:], sol[i+1:]))/Mat[i,i]\n",
    "    return sol\n",
    "\n",
    "def forward(Mat,rhs):\n",
    "    n = len(rhs)\n",
    "    sol = np.zeros(n)\n",
    "    sol[0] = rhs[0]/Mat[0,0]\n",
    "    for i in range(1, n, 1): # start stop step\n",
    "        print(\"\\ni:\",i)\n",
    "        print(\"Mat[i,:i]:\",Mat[i,:i])\n",
    "        sol[i] = (rhs[i] - np.dot(Mat[i,:i], sol[:i]))/Mat[i,i]\n",
    "    return sol\n",
    "\n",
    "x = backward(U,b)   \n",
    "print(\"\\n backward residual:\",np.linalg.norm(U@x-b))\n",
    "\n",
    "x = forward(L,b)   \n",
    "print(\"\\n forward residual:\",np.linalg.norm(L@x-b))"
   ]
  }
 ],
 "metadata": {
  "kernelspec": {
   "display_name": "Python 3 (ipykernel)",
   "language": "python",
   "name": "python3"
  },
  "language_info": {
   "codemirror_mode": {
    "name": "ipython",
    "version": 3
   },
   "file_extension": ".py",
   "mimetype": "text/x-python",
   "name": "python",
   "nbconvert_exporter": "python",
   "pygments_lexer": "ipython3",
   "version": "3.9.7"
  }
 },
 "nbformat": 4,
 "nbformat_minor": 5
}

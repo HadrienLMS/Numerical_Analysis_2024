{
 "cells": [
  {
   "cell_type": "markdown",
   "id": "86646fcb",
   "metadata": {},
   "source": [
    "# Floating point number representation\n",
    "A computer cannot store numbers real exactly, and needs a way to encode them. \n",
    "A floating point number is represented as $$ x \\approx \\pm m b^e, $$ where $m$ is the *mantissa* or *significant*, $b$ the *basis* or *radix* and $e$ the *exponent*.\n",
    "A normalized system sets $1 \\leq m < b$. For example, the number $395.2134$ writes $+ 3.952134 \\times 10^2$ in floating point arithmetic ($b=10$).\n",
    "Every computer system uses such a representation for numbers, but usually works in base 2 instead of the base 10 that we use everyday.  "
   ]
  },
  {
   "cell_type": "markdown",
   "id": "005e21ec",
   "metadata": {},
   "source": [
    "# Python representation\n",
    "Let us check how Python represents a real number"
   ]
  },
  {
   "cell_type": "code",
   "execution_count": 8,
   "id": "86c496c7",
   "metadata": {},
   "outputs": [
    {
     "data": {
      "text/plain": [
       "sys.float_info(max=1.7976931348623157e+308, max_exp=1024, max_10_exp=308, min=2.2250738585072014e-308, min_exp=-1021, min_10_exp=-307, dig=15, mant_dig=53, epsilon=2.220446049250313e-16, radix=2, rounds=1)"
      ]
     },
     "execution_count": 8,
     "metadata": {},
     "output_type": "execute_result"
    }
   ],
   "source": [
    "import sys\n",
    "sys.float_info"
   ]
  },
  {
   "cell_type": "markdown",
   "id": "241a5411",
   "metadata": {},
   "source": [
    "Python uses what is called the **double** precision format (64 bits). We can read $b=2$ (radix), $N=53$ bits for the mantissa (15 decimal digits), which includes one implicit bit for the sign $\\pm$. This means $64-53=11$ bits for the exponent. It allows to covers the \"underflow-overflow\" range $[\\text{min}_{10}, \\text{max}_{10}] =[2^{-1022}, 2^{1023}(2-2^{-52})]$ with 11 bits.  \n",
    "Because $2^{11}=2048$, the exponent is stored in the range $1 \\dots 2046$ (0 and 2047 have special meanings) and is interpreted in a bias form to get an exponent value in the range $−1022 \\dots +1023$. The machine epsilon is $2^{1-N} = 2^{-53}$, which is the relative error bound."
   ]
  },
  {
   "cell_type": "markdown",
   "id": "602f26ef",
   "metadata": {},
   "source": [
    "# Absolute and relative spacing\n",
    "We can check what is the relative and absolute spacing between two floating point numbers"
   ]
  },
  {
   "cell_type": "code",
   "execution_count": 11,
   "id": "69ce82f7",
   "metadata": {},
   "outputs": [
    {
     "name": "stdout",
     "output_type": "stream",
     "text": [
      "0.0001220703125\n",
      "1.220703125e-16\n",
      "1.7763568394002505e-15\n",
      "1.7763568394002506e-16\n"
     ]
    }
   ],
   "source": [
    "import numpy as np # import the numpy library\n",
    "\n",
    "# distance between x and the nearest adjacent number\n",
    "print(np.spacing(1e12)) # absolute spacing\n",
    "print( (np.spacing(1e12)) / 1e12 ) # relative spacing\n",
    "# print(\"{:e}\".format(16**256)) # overflow\n",
    "\n",
    "print(np.spacing(1e1)) # absolute spacing\n",
    "print( (np.spacing(1e1)) / 1e1 ) # relative spacing"
   ]
  },
  {
   "cell_type": "code",
   "execution_count": 4,
   "id": "a621963e",
   "metadata": {},
   "outputs": [
    {
     "name": "stdout",
     "output_type": "stream",
     "text": [
      "True\n",
      "False\n"
     ]
    }
   ],
   "source": [
    "# what are the outputs of these lines ?\n",
    "print ( 1e9 == (1e9 + np.spacing(1e9)/3) )\n",
    "print ( 1e9 == (1e9 + 1.01*np.spacing(1e9)) )"
   ]
  },
  {
   "cell_type": "markdown",
   "id": "ba978111",
   "metadata": {},
   "source": [
    "# Additioning floating point numbers\n",
    "Be careful: the addition is not commutative in floating-point arithmetic !"
   ]
  },
  {
   "cell_type": "code",
   "execution_count": 5,
   "id": "0a1a3de5",
   "metadata": {},
   "outputs": [
    {
     "name": "stdout",
     "output_type": "stream",
     "text": [
      "52510.07\n",
      "0.96\n",
      "(a+b) + c :0.00063899999999250667\n",
      "a + (b+c) :0.00064337125799999995\n"
     ]
    }
   ],
   "source": [
    "# Error in addition: (a+b) + c != a + (b+c) in floating point arithmetic\n",
    "a = 2.3371258 * 10**(-5)\n",
    "b = 3.3678429 * 10**1\n",
    "c = -3.3677811 * 10**1\n",
    "\n",
    "# amplification factors\n",
    "ampli1 = (a+b) / (a+b+c)\n",
    "ampli2 = (b+c) / (a+b+c)\n",
    "\n",
    "print(\"{:.2f}\".format(ampli1))\n",
    "print(\"{:.2f}\".format(ampli2))\n",
    "\n",
    "t1 = round(a+b, 5) + c\n",
    "t2 = a + round(b + c, 5)\n",
    "print(f'(a+b) + c :{t1:.20f}')\n",
    "print(f'a + (b+c) :{t2:.20f}')"
   ]
  },
  {
   "cell_type": "markdown",
   "id": "f4f81f0d",
   "metadata": {},
   "source": [
    "# Cancellation effect\n",
    "Loss of significant digits"
   ]
  },
  {
   "cell_type": "code",
   "execution_count": 6,
   "id": "09183ea9",
   "metadata": {},
   "outputs": [
    {
     "name": "stdout",
     "output_type": "stream",
     "text": [
      "use 8 significant digits, q =  -0.18530000010170308 the result is accurate up to 1 significant digit\n",
      "use 12 significant digits, q =  -0.19964143452071273 the result is accurate up to 5 significant digit\n",
      "use 16 significant digits, q =  -0.1996405438630753 the result is accurate up to 9 significant digit\n"
     ]
    }
   ],
   "source": [
    "def computeRatio(n):\n",
    "    \"\"\" Compute the number q = (pi - 3.1415) / (10^4*(pi - 3.1415) - 0.927)\n",
    "    using n number of significant digits to represent pi\n",
    "    \"\"\"\n",
    "    pi_diff = round(np.pi, n-1) - 3.1415\n",
    "    # print(pi_diff) # how many significant digit do we loose here ?\n",
    "    return pi_diff / (10**4*pi_diff - 0.927)\n",
    "\n",
    "print(\"use 8 significant digits, q = \", computeRatio(9), \"the result is accurate up to 1 significant digit\") # single precision\n",
    "print(\"use 12 significant digits, q = \", computeRatio(13), \"the result is accurate up to 5 significant digit\") \n",
    "print(\"use 16 significant digits, q = \", computeRatio(17), \"the result is accurate up to 9 significant digit\") # double precision\n",
    "# conclusion: if pi has n significant digits, q has n-8 significant digits !"
   ]
  },
  {
   "cell_type": "markdown",
   "id": "f77c97ab",
   "metadata": {},
   "source": [
    "# Conditioning\n",
    "Good conditioning: small variations of data $\\rightarrow$ small variations on the result.  \n",
    "For a function $f \\in C^1$ the conditioning is $$ \\text{cond}(f)_x = \\left| \\frac{x f'(x)}{f(x)} \\right| $$\n",
    "For $f(x) = a - x$, the conditioning is large if $x$ is close to $a$. "
   ]
  },
  {
   "cell_type": "code",
   "execution_count": 9,
   "id": "d1eb418b",
   "metadata": {},
   "outputs": [
    {
     "data": {
      "text/plain": [
       "Text(0.5, 1.0, 'Conditioning of $f(x)=(a-x)$ for $a = 1.0$')"
      ]
     },
     "execution_count": 9,
     "metadata": {},
     "output_type": "execute_result"
    },
    {
     "data": {
      "image/png": "[encoded data removed]",
      "text/plain": [
       "<Figure size 360x180 with 1 Axes>"
      ]
     },
     "metadata": {
      "needs_background": "light"
     },
     "output_type": "display_data"
    }
   ],
   "source": [
    "import matplotlib.pyplot as plt\n",
    "\n",
    "a = 1.\n",
    "x = np.linspace(a-1, a+1, 400)\n",
    "# print(x)\n",
    "cond_f = np.abs(-x/(a-x))\n",
    "plt.figure(figsize=(5, 2.5))\n",
    "plt.plot(x,cond_f, \"b-\")\n",
    "plt.xlabel(\"x\")\n",
    "plt.ylabel(\"Condition number\")\n",
    "plt.grid()\n",
    "plt.title(\"Conditioning of $f(x)=(a-x)$ for $a = %s$\" %round(a,3))"
   ]
  },
  {
   "cell_type": "code",
   "execution_count": 10,
   "id": "7a23e873",
   "metadata": {},
   "outputs": [
    {
     "name": "stdout",
     "output_type": "stream",
     "text": [
      "111.113\n",
      "0.005000\n",
      "0.004500\n"
     ]
    }
   ],
   "source": [
    "# another example: compute the number \"f(x) = sqrt(x+1) - sqrt(x)\"\n",
    "x = 12345\n",
    "print(np.round(np.sqrt(x+1),3))\n",
    "res = np.round(np.sqrt(x+1),3)-np.round(np.sqrt(x),3) # use 6 significant digits\n",
    "res2 = 1./(np.round(np.sqrt(x+1),3)+np.round(np.sqrt(x),3)) # alternative formula: why is it more accurate ?\n",
    "# Hint: compare the conditioning of f with the conditioning of the individual operations (break down the conditioning of the algorithm) \n",
    "print(\"{:.6f}\".format(res))\n",
    "print(\"{:.6f}\".format(res2))"
   ]
  },
  {
   "cell_type": "code",
   "execution_count": null,
   "id": "dede2b44",
   "metadata": {},
   "outputs": [],
   "source": []
  }
 ],
 "metadata": {
  "kernelspec": {
   "display_name": "Python 3 (ipykernel)",
   "language": "python",
   "name": "python3"
  },
  "language_info": {
   "codemirror_mode": {
    "name": "ipython",
    "version": 3
   },
   "file_extension": ".py",
   "mimetype": "text/x-python",
   "name": "python",
   "nbconvert_exporter": "python",
   "pygments_lexer": "ipython3",
   "version": "3.9.7"
  },
  "vscode": {
   "interpreter": {
    "hash": "31f2aee4e71d21fbe5cf8b01ff0e069b9275f58929596ceb00d14d90e3e16cd6"
   }
  }
 },
 "nbformat": 4,
 "nbformat_minor": 5
}
